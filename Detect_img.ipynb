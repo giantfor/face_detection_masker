{
 "cells": [
  {
   "cell_type": "markdown",
   "id": "representative-studio",
   "metadata": {},
   "source": [
    "# Testing detection masker"
   ]
  },
  {
   "cell_type": "markdown",
   "id": "liable-question",
   "metadata": {},
   "source": [
    "\n",
    "Nama : Djarot Hindarto\n",
    "\n",
    "NIM : 2020101006"
   ]
  },
  {
   "cell_type": "code",
   "execution_count": null,
   "id": "eight-austria",
   "metadata": {},
   "outputs": [
    {
     "name": "stdout",
     "output_type": "stream",
     "text": [
      "{'image': 'examples/1.jpg', 'face': 'face_detector', 'model': 'Maskerdetect.model', 'confidence': 0.5}\n",
      "Loading deploy.prototxt and caffemodel.\n",
      "Loading list args for 'face':'face_detector'.\n",
      "Process image face detection.\n"
     ]
    }
   ],
   "source": [
    "\n",
    "# import the necessary packages\n",
    "import cv2\n",
    "import os\n",
    "import numpy as np\n",
    "import argparse\n",
    "from tensorflow.keras.applications.mobilenet_v2 import preprocess_input\n",
    "from tensorflow.keras.preprocessing.image import img_to_array\n",
    "from tensorflow.keras.models import load_model\n",
    "\n",
    "args = {'image': 'examples/1.jpg', 'face': 'face_detector', 'model': 'Maskerdetect.model', 'confidence': 0.5}\n",
    "\n",
    "print(args)\n",
    "\n",
    "# Load protype dan caffemodel\n",
    "print(\"Loading deploy.prototxt and caffemodel.\")\n",
    "prototxtPath = os.path.sep.join([args[\"face\"], \"deploy.prototxt\"])\n",
    "weightsPath = os.path.sep.join([args[\"face\"], \"res10_300x300_ssd_iter_140000.caffemodel\"])\n",
    "net = cv2.dnn.readNet(prototxtPath, weightsPath)\n",
    "\n",
    "# load list args for 'face':'face_detector'\n",
    "print(\"Loading list args for 'face':'face_detector'.\")\n",
    "model = load_model(args[\"model\"])\n",
    "\n",
    "# load the input folder dataset picture dimensions\n",
    "image = cv2.imread(args[\"image\"])\n",
    "orig = image.copy()\n",
    "(h, w) = image.shape[:2]\n",
    "\n",
    "# construct a blob from the image\n",
    "blob = cv2.dnn.blobFromImage(image, 1.0, (300, 300), (104.0, 177.0, 123.0))\n",
    "\n",
    "# pass the blob through the network and obtain the face detections\n",
    "print(\"Process image face detection.\")\n",
    "net.setInput(blob)\n",
    "detections = net.forward()\n",
    "\n",
    "# looping for detection image\n",
    "for i in range(0, detections.shape[2]):\n",
    "    # extract the confidence (i.e., probability) associated with the detection\n",
    "    confidence = detections[0, 0, i, 2]\n",
    "\n",
    "    # filter out weak detections by ensuring the confidence is greater than the minimum confidence\n",
    "    if confidence > args[\"confidence\"]:\n",
    "        # compute the (x, y)-coordinates of the bounding box for the object\n",
    "        box = detections[0, 0, i, 3:7] * np.array([w, h, w, h])\n",
    "        (startX, startY, endX, endY) = box.astype(\"int\")\n",
    "\n",
    "        # ensure the bounding boxes fall within the dimensions of the frame\n",
    "        (startX, startY) = (max(0, startX), max(0, startY))\n",
    "        (endX, endY) = (min(w - 1, endX), min(h - 1, endY))\n",
    "\n",
    "        # extract the face ROI, convert it from BGR to RGB channel ordering, resize it to 224x224, and preprocess it\n",
    "        face = image[startY:endY, startX:endX]\n",
    "        face = cv2.cvtColor(face, cv2.COLOR_BGR2RGB)\n",
    "        face = cv2.resize(face, (224, 224))\n",
    "        face = img_to_array(face)\n",
    "        face = preprocess_input(face)\n",
    "        face = np.expand_dims(face, axis=0)\n",
    "\n",
    "        # pass the face through the model to determine if the face has a mask or not\n",
    "        (mask, withoutMask) = model.predict(face)[0]\n",
    "\n",
    "        # determine the class label and color we'll use to draw the bounding box and text\n",
    "        label = \"Mask\" if mask > withoutMask else \"No Mask\"\n",
    "        color = (0, 255, 0) if label == \"Mask\" else (0, 0, 255)\n",
    "\n",
    "        # include the probability in the label\n",
    "        label = \"{}: {:.2f}%\".format(label, max(mask, withoutMask) * 100)\n",
    "\n",
    "        # display the label and bounding box rectangle on the output frame\n",
    "        cv2.putText(image, label, (startX, startY - 10),\n",
    "        cv2.FONT_HERSHEY_SIMPLEX, 0.45, color, 2)\n",
    "        cv2.rectangle(image, (startX, startY), (endX, endY), color, 2)\n",
    "\n",
    "# show the output image\n",
    "cv2.imshow(\"Output\", image)\n",
    "cv2.waitKey(0)"
   ]
  },
  {
   "cell_type": "code",
   "execution_count": null,
   "id": "desirable-shuttle",
   "metadata": {},
   "outputs": [],
   "source": []
  }
 ],
 "metadata": {
  "kernelspec": {
   "display_name": "Python 3",
   "language": "python",
   "name": "python3"
  },
  "language_info": {
   "codemirror_mode": {
    "name": "ipython",
    "version": 3
   },
   "file_extension": ".py",
   "mimetype": "text/x-python",
   "name": "python",
   "nbconvert_exporter": "python",
   "pygments_lexer": "ipython3",
   "version": "3.8.5"
  }
 },
 "nbformat": 4,
 "nbformat_minor": 5
}
